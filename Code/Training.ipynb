{
  "cells": [
    {
      "cell_type": "code",
      "source": [
        "from google.colab import drive\n",
        "drive.mount('/content/drive')"
      ],
      "metadata": {
        "colab": {
          "base_uri": "https://localhost:8080/"
        },
        "id": "RAACfwE2KVvs",
        "outputId": "f8eeb80b-baea-4db7-8322-1397f8ad4b69"
      },
      "execution_count": 1,
      "outputs": [
        {
          "output_type": "stream",
          "name": "stdout",
          "text": [
            "Drive already mounted at /content/drive; to attempt to forcibly remount, call drive.mount(\"/content/drive\", force_remount=True).\n"
          ]
        }
      ]
    },
    {
      "cell_type": "code",
      "source": [
        "! pip install -U spacy -q"
      ],
      "metadata": {
        "id": "YI-pY7DTKf5j"
      },
      "execution_count": 2,
      "outputs": []
    },
    {
      "cell_type": "code",
      "source": [
        "!python -m spacy info"
      ],
      "metadata": {
        "colab": {
          "base_uri": "https://localhost:8080/"
        },
        "id": "EWkpEeL2Kt4j",
        "outputId": "03d6b00c-69f0-4796-c002-6bfe93de8e61"
      },
      "execution_count": 3,
      "outputs": [
        {
          "output_type": "stream",
          "name": "stdout",
          "text": [
            "\u001b[1m\n",
            "============================== Info about spaCy ==============================\u001b[0m\n",
            "\n",
            "spaCy version    3.3.0                         \n",
            "Location         /usr/local/lib/python3.7/dist-packages/spacy\n",
            "Platform         Linux-5.4.188+-x86_64-with-Ubuntu-18.04-bionic\n",
            "Python version   3.7.13                        \n",
            "Pipelines                                      \n",
            "\n"
          ]
        }
      ]
    },
    {
      "cell_type": "code",
      "source": [
        "import spacy\n",
        "from spacy.tokens import DocBin\n",
        "from tqdm import tqdm\n",
        "\n",
        "nlp = spacy.blank(\"en\") # load a new spacy model\n",
        "db = DocBin() # create a DocBin object"
      ],
      "metadata": {
        "id": "8_XHVzMsK2zS"
      },
      "execution_count": 4,
      "outputs": []
    },
    {
      "cell_type": "code",
      "source": [
        "import json\n",
        "filename = '/content/drive/MyDrive/Custom-NER/Datasets/annotations.json'\n",
        "f = open(filename)\n",
        "TRAIN_DATA = json.load(f)"
      ],
      "metadata": {
        "id": "R9QsCbSrZmvN"
      },
      "execution_count": 5,
      "outputs": []
    },
    {
      "cell_type": "code",
      "source": [
        "TRAIN_DATA"
      ],
      "metadata": {
        "colab": {
          "base_uri": "https://localhost:8080/"
        },
        "id": "IC2SkUHJaHeV",
        "outputId": "a3c1aaef-2fc9-4340-c6b5-524bd174702d"
      },
      "execution_count": 6,
      "outputs": [
        {
          "output_type": "execute_result",
          "data": {
            "text/plain": [
              "{'annotations': [['2021-07-08 13:45:57 INFO WMQJCAResourceAdapter: 0] =>>>GenericMessageDrivenBean - start() <Envelope><Header><CommonInfo><Source>OTP</Source><Service>SMSSrv</Service></CommonInfo>\\r\\n</Header><Body><SMSSrv><Mobile><CountryCode>61</CountryCode><Num>0420742903</Num>\\r\\n</Mobile><Source>IBNK</Source><RefNum>6266342</RefNum><RefNum2>1</RefNum2>\\r\\n<Bank>STG</Bank><GCISCustNum>11181855</GCISCustNum><SMSMsg>Your Secure Code is 494244 to add\\r\\nPayee with BB:062-013 Account:424242454. Never share this code.</SMSMsg></SMSSrv></Body></Envelope>\\r\\n(au.com.stgeorge.sms.integration.impl.listener.GenericMessageDrivenBean)\\r\\n',\n",
              "   {'entities': [[418, 424, 'SOURCECODE']]}],\n",
              "  ['=\\r\\n2021-07-02 15:06:41:806 INFO [WMQJCAResourceAdapter: 29] =>getAlertsByAccountNumber START Alert ID:0\\r\\nApp ID :CRA Acc Num :4601841000532921 Acc Type :null Type :0 GCIS null\\r\\n(au.com.stgeorge.sms.business.ProfileManagerlmpl)\\r\\n',\n",
              "   {'entities': [[125, 142, 'ACCNUM']]}],\n",
              "  ['=\\r\\n2021-07-08 13:45:57 INFO WMQJCAResourceAdapter: 0] =>>>GenericMessageDrivenBean - start() <Envelope><Header><CommonInfo><Source>OTP</Source><Service>SMSSrv</Service></CommonInfo>\\r\\n</Header><Body><SMSSrv><Mobile><CountryCode>61</CountryCode><Num>0420742903</Num>\\r\\n</Mobile><Source>IBNK</Source><RefNum>6266342</RefNum><RefNum2>1</RefNum2><Acctkey>1234567890987654</Acctkey>\\r\\n<Bank>STG</Bank><GCISCustNum>11181855</GCISCustNum><SMSMsg>Your Secure Code is 494244 to add\\r\\nPayee with BB:062-013 Account:424242454. Never share this code.</SMSMsg></SMSSrv></Body></Envelope>\\r\\n(au.com.stgeorge.sms.integration.impl.listener.GenericMessageDrivenBean)\\r\\n',\n",
              "   {'entities': [[243, 264, 'NUM'],\n",
              "     [340, 375, 'ACCTKEY'],\n",
              "     [456, 462, 'SECURECODE']]}],\n",
              "  ['=\\r\\n2021-07-02 14:57:54:456 INFO [WMQJCAResourceAdapter: 4] =>srvName :AlertTriggerSrv request :<Envelope>\\r\\n<Header><Commoninfo><Source>ODS</Source><SourceBranch><Num>0</Num></SourceBranch>\\r\\n<Service>AlertTriggerSrv</Service></CommonInfo></Header><Body><AlertTriggerSr>\\r\\n<Applid>CRA</Applid><AcctNum><AcctKey>4601841000280711</AcctKey></AcctNum>\\r\\n<AvailBal>5599.20</AvailBal><CurrBal>9348.30</CurrBal><ODLim>0.00</ODLim>\\r\\n<FloatAmt>0.00</FloatAmt><ShortName>Priyesh Dave</ShortName><TransType>AU</TransType><TranEffDate>\\r\\n<Day>02</Day><Month>07</Month><Year>2021</Year></TranEffDate><TranEffTime><Hour>14</Hour>\\r\\n<Min>57</Min><Sec>54</Sec></TranEffTime><TranAmt>52.50</TranAmt><TranDesc1>TRML= W1364081\\r\\n20210702</TranDesc1><TranDesc2>WOOLWORTHS/BEECROFTRDBEECROFTAU</TranDesc2>\\r\\n<SchedulePymtind>N</SchedulePymtInd><Brand></Brand></AlertTriggerSrv></Body></Envelope>response:<Envelope><Body><AlertTriggerSrvResp><Code><Code>000</Code><Desc>The request was\\r\\nsuccessfully performed</Desc></Code></AlertTriggerSrvResp></Body></Envelope>\\r\\n(au.com.stgeorge.sms.integration.IntegrationManager)\\r\\n',\n",
              "   {'entities': [[299, 334, 'ACCTKEY'], [446, 481, 'SHORTNAME']]}]],\n",
              " 'classes': ['NUM',\n",
              "  'SOURCECODE',\n",
              "  'ACCNUM',\n",
              "  'ACCTKEY',\n",
              "  'TEMPSEC',\n",
              "  'FIRSTNAME',\n",
              "  'LASTNAME',\n",
              "  'ACTTITLE1',\n",
              "  'SHORTNAME',\n",
              "  'SECURECODE']}"
            ]
          },
          "metadata": {},
          "execution_count": 6
        }
      ]
    },
    {
      "cell_type": "code",
      "source": [
        "for text, annot in tqdm(TRAIN_DATA['annotations']): \n",
        "    doc = nlp.make_doc(text) \n",
        "    ents = []\n",
        "    for start, end, label in annot[\"entities\"]:\n",
        "        span = doc.char_span(start, end, label=label, alignment_mode=\"contract\")\n",
        "        if span is None:\n",
        "            print(\"Skipping entity\")\n",
        "        else:\n",
        "            ents.append(span)\n",
        "    doc.ents = ents \n",
        "    db.add(doc)\n",
        "\n",
        "db.to_disk(\"/content/drive/MyDrive/Custom-NER/Datasets/training_data.spacy\") # save the docbin object"
      ],
      "metadata": {
        "colab": {
          "base_uri": "https://localhost:8080/"
        },
        "id": "RVPjdYZbaVbS",
        "outputId": "df2bd115-7b58-459b-8438-aee6ca9ee2a5"
      },
      "execution_count": 7,
      "outputs": [
        {
          "output_type": "stream",
          "name": "stderr",
          "text": [
            "100%|██████████| 4/4 [00:00<00:00, 404.74it/s]"
          ]
        },
        {
          "output_type": "stream",
          "name": "stdout",
          "text": [
            "Skipping entity\n"
          ]
        },
        {
          "output_type": "stream",
          "name": "stderr",
          "text": [
            "\n"
          ]
        }
      ]
    },
    {
      "cell_type": "code",
      "source": [
        "pip install spacy-transformers"
      ],
      "metadata": {
        "colab": {
          "base_uri": "https://localhost:8080/"
        },
        "id": "xatiA0ZtcJd7",
        "outputId": "118b8351-4b4a-47c3-e5e5-40f75ce045a7"
      },
      "execution_count": 8,
      "outputs": [
        {
          "output_type": "stream",
          "name": "stdout",
          "text": [
            "Looking in indexes: https://pypi.org/simple, https://us-python.pkg.dev/colab-wheels/public/simple/\n",
            "Requirement already satisfied: spacy-transformers in /usr/local/lib/python3.7/dist-packages (1.1.5)\n",
            "Requirement already satisfied: spacy<4.0.0,>=3.1.3 in /usr/local/lib/python3.7/dist-packages (from spacy-transformers) (3.3.0)\n",
            "Requirement already satisfied: spacy-alignments<1.0.0,>=0.7.2 in /usr/local/lib/python3.7/dist-packages (from spacy-transformers) (0.8.5)\n",
            "Requirement already satisfied: srsly<3.0.0,>=2.4.0 in /usr/local/lib/python3.7/dist-packages (from spacy-transformers) (2.4.3)\n",
            "Requirement already satisfied: transformers<4.18.0,>=3.4.0 in /usr/local/lib/python3.7/dist-packages (from spacy-transformers) (4.17.0)\n",
            "Requirement already satisfied: torch>=1.6.0 in /usr/local/lib/python3.7/dist-packages (from spacy-transformers) (1.11.0+cu113)\n",
            "Requirement already satisfied: tqdm<5.0.0,>=4.38.0 in /usr/local/lib/python3.7/dist-packages (from spacy<4.0.0,>=3.1.3->spacy-transformers) (4.64.0)\n",
            "Requirement already satisfied: requests<3.0.0,>=2.13.0 in /usr/local/lib/python3.7/dist-packages (from spacy<4.0.0,>=3.1.3->spacy-transformers) (2.23.0)\n",
            "Requirement already satisfied: spacy-loggers<2.0.0,>=1.0.0 in /usr/local/lib/python3.7/dist-packages (from spacy<4.0.0,>=3.1.3->spacy-transformers) (1.0.2)\n",
            "Requirement already satisfied: pathy>=0.3.5 in /usr/local/lib/python3.7/dist-packages (from spacy<4.0.0,>=3.1.3->spacy-transformers) (0.6.1)\n",
            "Requirement already satisfied: blis<0.8.0,>=0.4.0 in /usr/local/lib/python3.7/dist-packages (from spacy<4.0.0,>=3.1.3->spacy-transformers) (0.4.1)\n",
            "Requirement already satisfied: wasabi<1.1.0,>=0.9.1 in /usr/local/lib/python3.7/dist-packages (from spacy<4.0.0,>=3.1.3->spacy-transformers) (0.9.1)\n",
            "Requirement already satisfied: jinja2 in /usr/local/lib/python3.7/dist-packages (from spacy<4.0.0,>=3.1.3->spacy-transformers) (2.11.3)\n",
            "Requirement already satisfied: murmurhash<1.1.0,>=0.28.0 in /usr/local/lib/python3.7/dist-packages (from spacy<4.0.0,>=3.1.3->spacy-transformers) (1.0.7)\n",
            "Requirement already satisfied: packaging>=20.0 in /usr/local/lib/python3.7/dist-packages (from spacy<4.0.0,>=3.1.3->spacy-transformers) (21.3)\n",
            "Requirement already satisfied: preshed<3.1.0,>=3.0.2 in /usr/local/lib/python3.7/dist-packages (from spacy<4.0.0,>=3.1.3->spacy-transformers) (3.0.6)\n",
            "Requirement already satisfied: typing-extensions<4.0.0.0,>=3.7.4 in /usr/local/lib/python3.7/dist-packages (from spacy<4.0.0,>=3.1.3->spacy-transformers) (3.10.0.2)\n",
            "Requirement already satisfied: cymem<2.1.0,>=2.0.2 in /usr/local/lib/python3.7/dist-packages (from spacy<4.0.0,>=3.1.3->spacy-transformers) (2.0.6)\n",
            "Requirement already satisfied: pydantic!=1.8,!=1.8.1,<1.9.0,>=1.7.4 in /usr/local/lib/python3.7/dist-packages (from spacy<4.0.0,>=3.1.3->spacy-transformers) (1.8.2)\n",
            "Requirement already satisfied: langcodes<4.0.0,>=3.2.0 in /usr/local/lib/python3.7/dist-packages (from spacy<4.0.0,>=3.1.3->spacy-transformers) (3.3.0)\n",
            "Requirement already satisfied: catalogue<2.1.0,>=2.0.6 in /usr/local/lib/python3.7/dist-packages (from spacy<4.0.0,>=3.1.3->spacy-transformers) (2.0.7)\n",
            "Requirement already satisfied: thinc<8.1.0,>=8.0.14 in /usr/local/lib/python3.7/dist-packages (from spacy<4.0.0,>=3.1.3->spacy-transformers) (8.0.16)\n",
            "Requirement already satisfied: setuptools in /usr/local/lib/python3.7/dist-packages (from spacy<4.0.0,>=3.1.3->spacy-transformers) (57.4.0)\n",
            "Requirement already satisfied: typer<0.5.0,>=0.3.0 in /usr/local/lib/python3.7/dist-packages (from spacy<4.0.0,>=3.1.3->spacy-transformers) (0.4.1)\n",
            "Requirement already satisfied: numpy>=1.15.0 in /usr/local/lib/python3.7/dist-packages (from spacy<4.0.0,>=3.1.3->spacy-transformers) (1.21.6)\n",
            "Requirement already satisfied: spacy-legacy<3.1.0,>=3.0.9 in /usr/local/lib/python3.7/dist-packages (from spacy<4.0.0,>=3.1.3->spacy-transformers) (3.0.9)\n",
            "Requirement already satisfied: zipp>=0.5 in /usr/local/lib/python3.7/dist-packages (from catalogue<2.1.0,>=2.0.6->spacy<4.0.0,>=3.1.3->spacy-transformers) (3.8.0)\n",
            "Requirement already satisfied: pyparsing!=3.0.5,>=2.0.2 in /usr/local/lib/python3.7/dist-packages (from packaging>=20.0->spacy<4.0.0,>=3.1.3->spacy-transformers) (3.0.9)\n",
            "Requirement already satisfied: smart-open<6.0.0,>=5.0.0 in /usr/local/lib/python3.7/dist-packages (from pathy>=0.3.5->spacy<4.0.0,>=3.1.3->spacy-transformers) (5.2.1)\n",
            "Requirement already satisfied: urllib3!=1.25.0,!=1.25.1,<1.26,>=1.21.1 in /usr/local/lib/python3.7/dist-packages (from requests<3.0.0,>=2.13.0->spacy<4.0.0,>=3.1.3->spacy-transformers) (1.24.3)\n",
            "Requirement already satisfied: idna<3,>=2.5 in /usr/local/lib/python3.7/dist-packages (from requests<3.0.0,>=2.13.0->spacy<4.0.0,>=3.1.3->spacy-transformers) (2.10)\n",
            "Requirement already satisfied: chardet<4,>=3.0.2 in /usr/local/lib/python3.7/dist-packages (from requests<3.0.0,>=2.13.0->spacy<4.0.0,>=3.1.3->spacy-transformers) (3.0.4)\n",
            "Requirement already satisfied: certifi>=2017.4.17 in /usr/local/lib/python3.7/dist-packages (from requests<3.0.0,>=2.13.0->spacy<4.0.0,>=3.1.3->spacy-transformers) (2022.5.18.1)\n",
            "Requirement already satisfied: huggingface-hub<1.0,>=0.1.0 in /usr/local/lib/python3.7/dist-packages (from transformers<4.18.0,>=3.4.0->spacy-transformers) (0.7.0)\n",
            "Requirement already satisfied: tokenizers!=0.11.3,>=0.11.1 in /usr/local/lib/python3.7/dist-packages (from transformers<4.18.0,>=3.4.0->spacy-transformers) (0.12.1)\n",
            "Requirement already satisfied: regex!=2019.12.17 in /usr/local/lib/python3.7/dist-packages (from transformers<4.18.0,>=3.4.0->spacy-transformers) (2019.12.20)\n",
            "Requirement already satisfied: filelock in /usr/local/lib/python3.7/dist-packages (from transformers<4.18.0,>=3.4.0->spacy-transformers) (3.7.0)\n",
            "Requirement already satisfied: importlib-metadata in /usr/local/lib/python3.7/dist-packages (from transformers<4.18.0,>=3.4.0->spacy-transformers) (4.11.3)\n",
            "Requirement already satisfied: sacremoses in /usr/local/lib/python3.7/dist-packages (from transformers<4.18.0,>=3.4.0->spacy-transformers) (0.0.53)\n",
            "Requirement already satisfied: pyyaml>=5.1 in /usr/local/lib/python3.7/dist-packages (from transformers<4.18.0,>=3.4.0->spacy-transformers) (6.0)\n",
            "Requirement already satisfied: click<9.0.0,>=7.1.1 in /usr/local/lib/python3.7/dist-packages (from typer<0.5.0,>=0.3.0->spacy<4.0.0,>=3.1.3->spacy-transformers) (7.1.2)\n",
            "Requirement already satisfied: MarkupSafe>=0.23 in /usr/local/lib/python3.7/dist-packages (from jinja2->spacy<4.0.0,>=3.1.3->spacy-transformers) (2.0.1)\n",
            "Requirement already satisfied: joblib in /usr/local/lib/python3.7/dist-packages (from sacremoses->transformers<4.18.0,>=3.4.0->spacy-transformers) (1.1.0)\n",
            "Requirement already satisfied: six in /usr/local/lib/python3.7/dist-packages (from sacremoses->transformers<4.18.0,>=3.4.0->spacy-transformers) (1.15.0)\n"
          ]
        }
      ]
    },
    {
      "cell_type": "code",
      "source": [
        "! python -m spacy init config /content/drive/MyDrive/Custom-NER/Datasets/config.cfg --lang en --pipeline ner --optimize efficiency"
      ],
      "metadata": {
        "colab": {
          "base_uri": "https://localhost:8080/"
        },
        "id": "EV4r82Mecc3H",
        "outputId": "06689dd3-060e-4ca7-cfcd-caed81676eba"
      },
      "execution_count": 9,
      "outputs": [
        {
          "output_type": "stream",
          "name": "stdout",
          "text": [
            "\u001b[38;5;4mℹ Generated config template specific for your use case\u001b[0m\n",
            "- Language: en\n",
            "- Pipeline: ner\n",
            "- Optimize for: efficiency\n",
            "- Hardware: CPU\n",
            "- Transformer: None\n",
            "\u001b[38;5;2m✔ Auto-filled config with all values\u001b[0m\n",
            "\u001b[38;5;2m✔ Saved config\u001b[0m\n",
            "/content/drive/MyDrive/Custom-NER/Datasets/config.cfg\n",
            "You can now add your data and train your pipeline:\n",
            "python -m spacy train config.cfg --paths.train ./train.spacy --paths.dev ./dev.spacy\n"
          ]
        }
      ]
    },
    {
      "cell_type": "code",
      "source": [
        "! python -m spacy train /content/drive/MyDrive/Custom-NER/Datasets/config.cfg --output /content/drive/MyDrive/Custom-NER/Models --paths.train /content/drive/MyDrive/Custom-NER/Datasets/training_data.spacy --paths.dev /content/drive/MyDrive/Custom-NER/Datasets/training_data.spacy"
      ],
      "metadata": {
        "colab": {
          "base_uri": "https://localhost:8080/"
        },
        "id": "KyIijm7BchdY",
        "outputId": "7d68ad7b-8daf-4506-d9dc-74775114611e"
      },
      "execution_count": 10,
      "outputs": [
        {
          "output_type": "stream",
          "name": "stdout",
          "text": [
            "\u001b[38;5;4mℹ Saving to output directory:\n",
            "/content/drive/MyDrive/Custom-NER/Models\u001b[0m\n",
            "\u001b[38;5;4mℹ Using CPU\u001b[0m\n",
            "\u001b[38;5;4mℹ To switch to GPU 0, use the option: --gpu-id 0\u001b[0m\n",
            "\u001b[1m\n",
            "=========================== Initializing pipeline ===========================\u001b[0m\n",
            "[2022-05-26 11:12:33,525] [INFO] Set up nlp object from config\n",
            "[2022-05-26 11:12:33,535] [INFO] Pipeline: ['tok2vec', 'ner']\n",
            "[2022-05-26 11:12:33,539] [INFO] Created vocabulary\n",
            "[2022-05-26 11:12:33,540] [INFO] Finished initializing nlp object\n",
            "[2022-05-26 11:12:33,675] [INFO] Initialized pipeline components: ['tok2vec', 'ner']\n",
            "\u001b[38;5;2m✔ Initialized pipeline\u001b[0m\n",
            "\u001b[1m\n",
            "============================= Training pipeline =============================\u001b[0m\n",
            "\u001b[38;5;4mℹ Pipeline: ['tok2vec', 'ner']\u001b[0m\n",
            "\u001b[38;5;4mℹ Initial learn rate: 0.001\u001b[0m\n",
            "E    #       LOSS TOK2VEC  LOSS NER  ENTS_F  ENTS_P  ENTS_R  SCORE \n",
            "---  ------  ------------  --------  ------  ------  ------  ------\n",
            "  0       0          0.00     35.73    0.00    0.00    0.00    0.00\n",
            " 57     200         88.03    979.93   76.92   71.43   83.33    0.77\n",
            "132     400         10.19    194.61   76.92   71.43   83.33    0.77\n",
            "228     600          5.57    222.08   76.92   71.43   83.33    0.77\n",
            "328     800          8.16    231.37   72.73   80.00   66.67    0.73\n",
            "504    1000         15.72    379.32   76.92   71.43   83.33    0.77\n",
            "704    1200         12.42    426.82   72.73   80.00   66.67    0.73\n",
            "904    1400         10.05    419.61   76.92   71.43   83.33    0.77\n",
            "1104    1600         11.35    418.80   76.92   71.43   83.33    0.77\n",
            "1304    1800         11.47    418.11   72.73   80.00   66.67    0.73\n",
            "\u001b[38;5;2m✔ Saved pipeline to output directory\u001b[0m\n",
            "/content/drive/MyDrive/Custom-NER/Models/model-last\n"
          ]
        }
      ]
    },
    {
      "cell_type": "code",
      "source": [
        "nlp_ner = spacy.load(\"/content/drive/MyDrive/Custom-NER/Models/model-best\")"
      ],
      "metadata": {
        "id": "Il2ZDY3Kpv-v"
      },
      "execution_count": 11,
      "outputs": []
    },
    {
      "cell_type": "code",
      "source": [
        "text = '''2021-07-08 13:45:57 INFO WMQJCAResourceAdapter: 0] =>>>GenericMessageDrivenBean - start()<Envelope><Header><CommonInfo><Source>OTP</Source><Service>SMSSrv</Service></CommonInfo>\n",
        "</Header><Body><SMSSrv><Mobile><CountryCode>61</CountryCode><Num>0420742903</Num>\n",
        "</Mobile><Source>IBNK</Source><RefNum>6266342</RefNum><RefNum2>1</RefNum2><Acctkey>1234567890987654</Acctkey>\n",
        "<Bank>STG</Bank><GCISCustNum>11181855</GCISCustNum><SMSMsg>Your Secure Code is 494244 to add\n",
        "Payee with BB:062-013 Account:424242454. Never share this code.</SMSMsg></SMSSrv></Body></Envelope>\n",
        "(au.com.stgeorge.sms.integration.impl.listener.GenericMessageDrivenBean)'''"
      ],
      "metadata": {
        "id": "ftC7VWgzqqt4"
      },
      "execution_count": 15,
      "outputs": []
    },
    {
      "cell_type": "code",
      "source": [
        "doc = nlp_ner(text)"
      ],
      "metadata": {
        "id": "QyvMa6bNq0So"
      },
      "execution_count": 16,
      "outputs": []
    },
    {
      "cell_type": "code",
      "source": [
        "spacy.displacy.render(doc, style=\"ent\", jupyter=True) # display in Jupyter"
      ],
      "metadata": {
        "colab": {
          "base_uri": "https://localhost:8080/",
          "height": 262
        },
        "id": "lfIDLjgRq9aF",
        "outputId": "8e07bd10-2c10-4035-dc16-ad2c306efe6b"
      },
      "execution_count": 17,
      "outputs": [
        {
          "output_type": "display_data",
          "data": {
            "text/plain": [
              "<IPython.core.display.HTML object>"
            ],
            "text/html": [
              "<span class=\"tex2jax_ignore\"><div class=\"entities\" style=\"line-height: 2.5; direction: ltr\">2021-07-08 13:45:57 INFO WMQJCAResourceAdapter: 0] =&gt;&gt;&gt;GenericMessageDrivenBean - start()&lt;Envelope&gt;&lt;Header&gt;&lt;CommonInfo&gt;&lt;Source&gt;OTP&lt;/Source&gt;&lt;Service&gt;SMSSrv&lt;/Service&gt;&lt;/CommonInfo&gt;</br>&lt;/Header&gt;&lt;Body&gt;&lt;SMSSrv&gt;&lt;Mobile&gt;&lt;CountryCode&gt;61&lt;/CountryCode&gt;&lt;Num&gt;0420742903&lt;/Num\n",
              "<mark class=\"entity\" style=\"background: #ddd; padding: 0.45em 0.6em; margin: 0 0.25em; line-height: 1; border-radius: 0.35em;\">\n",
              "    &gt;\n",
              "    <span style=\"font-size: 0.8em; font-weight: bold; line-height: 1; border-radius: 0.35em; vertical-align: middle; margin-left: 0.5rem\">NUM</span>\n",
              "</mark>\n",
              "</br>&lt;/Mobile&gt;&lt;Source&gt;IBNK&lt;/Source&gt;&lt;RefNum&gt;6266342&lt;/RefNum&gt;&lt;RefNum2&gt;1&lt;/RefNum2&gt;&lt;Acctkey&gt;1234567890987654&lt;/Acctkey\n",
              "<mark class=\"entity\" style=\"background: #ddd; padding: 0.45em 0.6em; margin: 0 0.25em; line-height: 1; border-radius: 0.35em;\">\n",
              "    &gt;\n",
              "    <span style=\"font-size: 0.8em; font-weight: bold; line-height: 1; border-radius: 0.35em; vertical-align: middle; margin-left: 0.5rem\">ACCTKEY</span>\n",
              "</mark>\n",
              "</br>&lt;Bank&gt;STG&lt;/Bank&gt;&lt;GCISCustNum&gt;11181855&lt;/GCISCustNum&gt;&lt;SMSMsg&gt;Your Secure Code is \n",
              "<mark class=\"entity\" style=\"background: #ddd; padding: 0.45em 0.6em; margin: 0 0.25em; line-height: 1; border-radius: 0.35em;\">\n",
              "    494244\n",
              "    <span style=\"font-size: 0.8em; font-weight: bold; line-height: 1; border-radius: 0.35em; vertical-align: middle; margin-left: 0.5rem\">SOURCECODE</span>\n",
              "</mark>\n",
              " to add</br>Payee with BB:062-013 Account:424242454. Never share this code.&lt;/SMSMsg&gt;&lt;/SMSSrv&gt;&lt;/Body&gt;&lt;/Envelope&gt;</br>(au.com.stgeorge.sms.integration.impl.listener.GenericMessageDrivenBean)</div></span>"
            ]
          },
          "metadata": {}
        }
      ]
    }
  ],
  "metadata": {
    "language_info": {
      "name": "python"
    },
    "orig_nbformat": 4,
    "colab": {
      "name": "Training.ipynb",
      "provenance": []
    },
    "kernelspec": {
      "name": "python3",
      "display_name": "Python 3"
    },
    "accelerator": "GPU"
  },
  "nbformat": 4,
  "nbformat_minor": 0
}